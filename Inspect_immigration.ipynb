{
 "metadata": {
  "language_info": {
   "codemirror_mode": {
    "name": "ipython",
    "version": 3
   },
   "file_extension": ".py",
   "mimetype": "text/x-python",
   "name": "python",
   "nbconvert_exporter": "python",
   "pygments_lexer": "ipython3",
   "version": "3.7.6"
  },
  "orig_nbformat": 2,
  "kernelspec": {
   "name": "python376jvsc74a57bd0b533fa56a45963450a4b82145a4d23d60b6a43fab46f015745080e7e2d7daa42",
   "display_name": "Python 3.7.6 64-bit ('base': conda)"
  },
  "metadata": {
   "interpreter": {
    "hash": "28c270ad4bacf0785801f621b086f17685b941f7bfd51eb69041f0ad24363c77"
   }
  }
 },
 "nbformat": 4,
 "nbformat_minor": 2,
 "cells": [
  {
   "source": [
    "# Importing Modules "
   ],
   "cell_type": "markdown",
   "metadata": {}
  },
  {
   "cell_type": "code",
   "execution_count": 1,
   "metadata": {},
   "outputs": [],
   "source": [
    "import pyspark\n",
    "import findspark\n",
    "from pyspark.sql import SparkSession\n",
    "from pyspark.sql import SQLContext\n",
    "from pyspark.sql.functions import col , udf\n",
    "from pyspark.sql.types import StringType\n",
    "from pyspark.sql.functions import trim\n",
    "from pyspark.sql.functions import initcap\n",
    "from pyspark.sql.functions import split\n",
    "\n",
    "\n",
    "import pandas as pd \n",
    "import numpy as np \n",
    "import re\n",
    "\n",
    "findspark.init('D:\\\\Spark\\\\')"
   ]
  },
  {
   "source": [
    "# Creating SparkSession"
   ],
   "cell_type": "markdown",
   "metadata": {}
  },
  {
   "cell_type": "code",
   "execution_count": 2,
   "metadata": {},
   "outputs": [],
   "source": [
    "spark=SparkSession.builder\\\n",
    "    .master('local') \\\n",
    "    .appName('Udacity') \\\n",
    "    .getOrCreate()"
   ]
  },
  {
   "cell_type": "code",
   "execution_count": 3,
   "metadata": {},
   "outputs": [
    {
     "output_type": "execute_result",
     "data": {
      "text/plain": [
       "<pyspark.sql.session.SparkSession at 0x225cef04448>"
      ],
      "text/html": "\n            <div>\n                <p><b>SparkSession - in-memory</b></p>\n                \n        <div>\n            <p><b>SparkContext</b></p>\n\n            <p><a href=\"http://host.docker.internal:4040\">Spark UI</a></p>\n\n            <dl>\n              <dt>Version</dt>\n                <dd><code>v3.0.1</code></dd>\n              <dt>Master</dt>\n                <dd><code>local</code></dd>\n              <dt>AppName</dt>\n                <dd><code>Udacity</code></dd>\n            </dl>\n        </div>\n        \n            </div>\n        "
     },
     "metadata": {},
     "execution_count": 3
    }
   ],
   "source": [
    "spark"
   ]
  },
  {
   "source": [
    "# Loading and Inspsecting Dataframe"
   ],
   "cell_type": "markdown",
   "metadata": {}
  },
  {
   "cell_type": "code",
   "execution_count": 4,
   "metadata": {},
   "outputs": [],
   "source": [
    "df = spark.read.parquet('data/*.parquet')"
   ]
  },
  {
   "cell_type": "code",
   "execution_count": 5,
   "metadata": {},
   "outputs": [
    {
     "output_type": "stream",
     "name": "stdout",
     "text": [
      "root\n |-- cicid: double (nullable = true)\n |-- i94yr: double (nullable = true)\n |-- i94mon: double (nullable = true)\n |-- i94cit: double (nullable = true)\n |-- i94res: double (nullable = true)\n |-- i94port: string (nullable = true)\n |-- arrdate: double (nullable = true)\n |-- i94mode: double (nullable = true)\n |-- i94addr: string (nullable = true)\n |-- depdate: double (nullable = true)\n |-- i94bir: double (nullable = true)\n |-- i94visa: double (nullable = true)\n |-- count: double (nullable = true)\n |-- dtadfile: string (nullable = true)\n |-- visapost: string (nullable = true)\n |-- occup: string (nullable = true)\n |-- entdepa: string (nullable = true)\n |-- entdepd: string (nullable = true)\n |-- entdepu: string (nullable = true)\n |-- matflag: string (nullable = true)\n |-- biryear: double (nullable = true)\n |-- dtaddto: string (nullable = true)\n |-- gender: string (nullable = true)\n |-- insnum: string (nullable = true)\n |-- airline: string (nullable = true)\n |-- admnum: double (nullable = true)\n |-- fltno: string (nullable = true)\n |-- visatype: string (nullable = true)\n\n"
     ]
    }
   ],
   "source": [
    "df.printSchema()"
   ]
  },
  {
   "cell_type": "code",
   "execution_count": 6,
   "metadata": {},
   "outputs": [
    {
     "output_type": "stream",
     "name": "stdout",
     "text": [
      "+--------+------+------+------+------+-------+-------+-------+-------+-------+------+-------+-----+--------+--------+-----+-------+-------+-------+-------+-------+--------+------+------+-------+---------------+-----+--------+\n|   cicid| i94yr|i94mon|i94cit|i94res|i94port|arrdate|i94mode|i94addr|depdate|i94bir|i94visa|count|dtadfile|visapost|occup|entdepa|entdepd|entdepu|matflag|biryear| dtaddto|gender|insnum|airline|         admnum|fltno|visatype|\n+--------+------+------+------+------+-------+-------+-------+-------+-------+------+-------+-----+--------+--------+-----+-------+-------+-------+-------+-------+--------+------+------+-------+---------------+-----+--------+\n|459651.0|2016.0|   4.0| 135.0| 135.0|    ATL|20547.0|    1.0|     FL|20559.0|  54.0|    2.0|  1.0|20160403|    null| null|      O|      R|   null|      M| 1962.0|07012016|  null|  null|     VS|5.5556253633E10|00115|      WT|\n|459652.0|2016.0|   4.0| 135.0| 135.0|    ATL|20547.0|    1.0|     FL|20555.0|  74.0|    2.0|  1.0|20160403|    null| null|      T|      O|   null|      M| 1942.0|07012016|     F|  null|     VS|   6.74406485E8|  103|      WT|\n|459653.0|2016.0|   4.0| 135.0| 135.0|    ATL|20547.0|    1.0|     FL|20557.0|  44.0|    2.0|  1.0|20160403|    null| null|      T|      Q|   null|      M| 1972.0|10022016|     M|  null|     VS|   6.74948185E8|  109|      B2|\n|459654.0|2016.0|   4.0| 135.0| 135.0|    ATL|20547.0|    1.0|      G|20555.0|  38.0|    2.0|  1.0|20160403|    null| null|      O|      O|   null|      M| 1978.0|07012016|  null|  null|     VS|5.5541762033E10|00103|      WT|\n|459655.0|2016.0|   4.0| 135.0| 135.0|    ATL|20547.0|    1.0|     GA|   null|  64.0|    2.0|  1.0|20160403|    null| null|      G|   null|   null|   null| 1952.0|07012016|     F|  null|     VS|5.5541328433E10|00103|      WT|\n|459656.0|2016.0|   4.0| 135.0| 135.0|    ATL|20547.0|    1.0|     GA|   null|  63.0|    2.0|  1.0|20160403|    null| null|      G|   null|   null|   null| 1953.0|07012016|     M|  null|     BA|5.5578035433E10|00227|      WT|\n|459657.0|2016.0|   4.0| 135.0| 135.0|    ATL|20547.0|    1.0|     GA|20548.0|  44.0|    1.0|  1.0|20160403|    null| null|      G|      I|   null|      M| 1972.0|07012016|     M|  null|     BA|5.5578919033E10|00227|      WB|\n|459658.0|2016.0|   4.0| 135.0| 135.0|    ATL|20547.0|    1.0|     GA|20548.0|  39.0|    1.0|  1.0|20160403|    null| null|      G|      I|   null|      M| 1977.0|07012016|     M|  null|     BA|5.5578743033E10|00227|      WB|\n|459659.0|2016.0|   4.0| 135.0| 135.0|    ATL|20547.0|    1.0|     GA|20573.0|  84.0|    2.0|  1.0|20160403|    null| null|      G|      I|   null|      M| 1932.0|07012016|     M|  null|     BA|5.5577459833E10|00227|      WT|\n|459660.0|2016.0|   4.0| 135.0| 135.0|    ATL|20547.0|    1.0|     GA|20555.0|  55.0|    2.0|  1.0|20160403|    null| null|      G|      N|   null|      M| 1961.0|07012016|     M|  null|     BA|5.5577874033E10|00227|      WT|\n|459661.0|2016.0|   4.0| 135.0| 135.0|    ATL|20547.0|    1.0|     GA|20555.0|  54.0|    2.0|  1.0|20160403|    null| null|      G|      N|   null|      M| 1962.0|07012016|     M|  null|     BA|5.5577725633E10|00227|      WT|\n|459662.0|2016.0|   4.0| 135.0| 135.0|    ATL|20547.0|    1.0|     GA|20548.0|  36.0|    2.0|  1.0|20160403|    null| null|      G|      O|   null|      M| 1980.0|07012016|     M|  null|     DL|5.5577644033E10|00349|      WT|\n|459663.0|2016.0|   4.0| 135.0| 135.0|    ATL|20547.0|    1.0|     GA|20549.0|  71.0|    1.0|  1.0|20160403|    null| null|      G|      O|   null|      M| 1945.0|07012016|     M|  null|     DL|5.5574698833E10|00031|      WB|\n|459664.0|2016.0|   4.0| 135.0| 135.0|    ATL|20547.0|    1.0|     GA|20549.0|  39.0|    2.0|  1.0|20160403|    null| null|      G|      O|   null|      M| 1977.0|07012016|     M|  null|     VS|5.5560145833E10|00109|      WT|\n|459665.0|2016.0|   4.0| 135.0| 135.0|    ATL|20547.0|    1.0|     GA|20550.0|  54.0|    1.0|  1.0|20160403|    null| null|      G|      O|   null|      M| 1962.0|07012016|     M|  null|     BA|5.5577579933E10|00227|      WB|\n|459666.0|2016.0|   4.0| 135.0| 135.0|    ATL|20547.0|    1.0|     GA|20550.0|  51.0|    1.0|  1.0|20160403|    null| null|      G|      O|   null|      M| 1965.0|07012016|     M|  null|     BA|5.5578365433E10|00227|      WB|\n|459667.0|2016.0|   4.0| 135.0| 135.0|    ATL|20547.0|    1.0|     GA|20550.0|  43.0|    1.0|  1.0|20160403|    null| null|      G|      O|   null|      M| 1973.0|07012016|     M|  null|     DL|5.5574951833E10|00031|      WB|\n|459668.0|2016.0|   4.0| 135.0| 135.0|    ATL|20547.0|    1.0|     GA|20550.0|  37.0|    1.0|  1.0|20160403|    null| null|      G|      O|   null|      M| 1979.0|07012016|     F|  null|     DL|5.5564568733E10|00029|      WB|\n|459669.0|2016.0|   4.0| 135.0| 135.0|    ATL|20547.0|    1.0|     GA|20550.0|  33.0|    1.0|  1.0|20160403|    null| null|      G|      O|   null|      M| 1983.0|07012016|     F|  null|     VS|5.5557739533E10|00109|      WB|\n|459670.0|2016.0|   4.0| 135.0| 135.0|    ATL|20547.0|    1.0|     GA|20550.0|  50.0|    1.0|  1.0|20160403|    null| null|      G|      O|   null|      M| 1966.0|07012016|     M|  null|     DL|5.5574648333E10|00031|      WB|\n+--------+------+------+------+------+-------+-------+-------+-------+-------+------+-------+-----+--------+--------+-----+-------+-------+-------+-------+-------+--------+------+------+-------+---------------+-----+--------+\nonly showing top 20 rows\n\n"
     ]
    }
   ],
   "source": [
    "df.show()"
   ]
  },
  {
   "source": [
    "## Cleaning I94 Dataset "
   ],
   "cell_type": "markdown",
   "metadata": {}
  },
  {
   "source": [
    "+ ~~Dropping Columns~~ \n",
    "+ ~~Invalid States~~ \n",
    "+ ~~Invalid Ports~~ \n",
    "+ ~~Dropping Duplicates~~"
   ],
   "cell_type": "markdown",
   "metadata": {}
  },
  {
   "cell_type": "code",
   "execution_count": 7,
   "metadata": {},
   "outputs": [],
   "source": [
    "# Read Port Data \n",
    "df_port=spark.createDataFrame(pd.read_json('data\\i94prtl.json', orient='index').reset_index().rename(columns={'index':'i94port',0:'Port'}))"
   ]
  },
  {
   "source": [
    "# Read Origin Data \n",
    "df_country=spark.createDataFrame(pd.read_json('data\\i94cntyl.json', orient='index').reset_index().rename(columns={'index':'i94cit',0:'Country of Origin'}))"
   ],
   "cell_type": "code",
   "metadata": {},
   "execution_count": 8,
   "outputs": []
  },
  {
   "cell_type": "code",
   "execution_count": 9,
   "metadata": {},
   "outputs": [],
   "source": [
    "# Read TravleMode Data\n",
    "df_mode=spark.createDataFrame(pd.read_json('data\\i94model.json', orient='index').reset_index().rename(columns={'index':'i94mode',0:'Travelmode'}))"
   ]
  },
  {
   "cell_type": "code",
   "execution_count": 10,
   "metadata": {},
   "outputs": [],
   "source": [
    "# Read Destination data \n",
    "df_dest=spark.createDataFrame(pd.read_json('data\\i94addrl.json', orient='index').reset_index().rename(columns={'index':'i94addr',0:'Destination'}))"
   ]
  },
  {
   "cell_type": "code",
   "execution_count": 11,
   "metadata": {},
   "outputs": [],
   "source": [
    "# Read Visa data \n",
    "df_visa=spark.createDataFrame(pd.read_json('data\\i94visa.json', orient='index').reset_index().rename(columns={'index':'i94visa',0:'Visa'}))"
   ]
  },
  {
   "source": [
    "## Join Tables on DF "
   ],
   "cell_type": "markdown",
   "metadata": {}
  },
  {
   "cell_type": "code",
   "execution_count": 12,
   "metadata": {},
   "outputs": [],
   "source": [
    "# Join Port \n",
    "df=df.join(df_port, df.i94port==df_port.i94port, how='left').drop(df_port.i94port)\n",
    "# Join Country \n",
    "df=df.join(df_country, df.i94cit==df_country.i94cit, how='left').drop(df_country.i94cit)\n",
    "# Join Travelmode\n",
    "df=df.join(df_mode,df.i94mode==df_mode.i94mode, how='left').drop(df_mode.i94mode)\n",
    "# Join Destination \n",
    "df=df.join(df_dest,df.i94addr==df_dest.i94addr, how='left').drop(df_dest.i94addr)\n",
    "# Join Visa Data \n",
    "df=df.join(df_visa,df.i94visa==df_visa.i94visa, how='left').drop(df_visa.i94visa)"
   ]
  },
  {
   "cell_type": "code",
   "execution_count": 13,
   "metadata": {
    "tags": []
   },
   "outputs": [
    {
     "output_type": "stream",
     "name": "stdout",
     "text": [
      "+---------+------+------+------+------+-------+-------+-------+-------+-------+------+-------+-----+--------+--------+-----+-------+-------+-------+-------+-------+--------+------+------+-------+---------------+-----+--------+--------------------+--------------------+----------+-----------+---------+\n|    cicid| i94yr|i94mon|i94cit|i94res|i94port|arrdate|i94mode|i94addr|depdate|i94bir|i94visa|count|dtadfile|visapost|occup|entdepa|entdepd|entdepu|matflag|biryear| dtaddto|gender|insnum|airline|         admnum|fltno|visatype|                Port|   Country of Origin|Travelmode|Destination|     Visa|\n+---------+------+------+------+------+-------+-------+-------+-------+-------+------+-------+-----+--------+--------+-----+-------+-------+-------+-------+-------+--------+------+------+-------+---------------+-----+--------+--------------------+--------------------+----------+-----------+---------+\n|2093085.0|2016.0|   4.0| 582.0| 582.0|    HOU|20555.0|    1.0|     .N|20559.0|  46.0|    1.0|  1.0|20160411|    null| null|      K|      O|   null|      M| 1970.0|10112016|     M|  null|     UA| 9.329960203E10|01056|      B1|HOUSTON, TX      ...|  MEXICO Air Sea,...|       Air|       null| Business|\n|1373083.0|2016.0|   4.0| 135.0| 135.0|    ATL|20552.0|    1.0|     RG|20553.0|  22.0|    1.0|  1.0|20160408|    null| null|      O|      R|   null|      M| 1994.0|10072016|  null|  null|     VS| 9.304159433E10|0115C|      B1|ATLANTA, GA      ...|      UNITED KINGDOM|       Air|       null| Business|\n|2696520.0|2016.0|   4.0| 135.0| 135.0|    ATL|20559.0|    1.0|     RG|20560.0|  50.0|    1.0|  1.0|20160415|    null| null|      O|      R|   null|      M| 1966.0|10142016|  null|  null|     VS| 9.360236983E10|0103C|      B1|ATLANTA, GA      ...|      UNITED KINGDOM|       Air|       null| Business|\n|1594614.0|2016.0|   4.0| 135.0| 135.0|    NYC|20553.0|    1.0|     RG|20554.0|  21.0|    1.0|  1.0|20160409|    null| null|      O|      R|   null|      M| 1995.0|10082016|  null|  null|     VS| 9.315375303E10|0025C|      B1|NEW YORK, NY     ...|      UNITED KINGDOM|       Air|       null| Business|\n|3337659.0|2016.0|   4.0| 135.0| 135.0|    MIA|20562.0|    1.0|     CI|20581.0|  30.0|    1.0|  1.0|20160418|    null| null|      O|      R|   null|      M| 1986.0|10172016|  null|  null|     AA| 9.388344453E10|00057|      B1|MIAMI, FL        ...|      UNITED KINGDOM|       Air|       null| Business|\n|2645687.0|2016.0|   4.0| 582.0| 582.0|    HOU|20558.0|    1.0|     CI|20559.0|  53.0|    1.0|  1.0|20160414|    null| null|      K|      O|   null|      M| 1963.0|10142016|     M|  null|     AM| 9.354129223E10|00418|      B1|HOUSTON, TX      ...|  MEXICO Air Sea,...|       Air|       null| Business|\n|2925771.0|2016.0|   4.0| 209.0| 209.0|    DEN|20560.0|    1.0|     CI|20566.0|  43.0|    1.0|  1.0|20160416|    null| null|      O|      O|   null|      M| 1973.0|07142016|  null|  null|     NH|5.6236412033E10|00012|      WB|DENVER, CO       ...|               JAPAN|       Air|       null| Business|\n|3690624.0|2016.0|   4.0| 209.0| 209.0|    DAL|20564.0|    1.0|     CI|20567.0|  60.0|    1.0|  1.0|20160420|    null| null|      O|      O|   null|      M| 1956.0|07182016|  null|  null|     YV|5.6486475033E10|05780|      WB|DALLAS, TX       ...|               JAPAN|       Air|       null| Business|\n| 855510.0|2016.0|   4.0| 148.0| 112.0|    DAL|20549.0|    1.0|     CI|20559.0|  29.0|    1.0|  1.0|20160405|    null| null|      O|      O|   null|      M| 1987.0|07032016|  null|  null|     MQ|5.5646572833E10|03687|      WB|DALLAS, TX       ...|                null|       Air|       null| Business|\n| 881270.0|2016.0|   4.0| 299.0| 299.0|    SFR|20549.0|    1.0|     AZ|20553.0|  34.0|    1.0|  1.0|20160405|     ULN| null|      G|      O|   null|      M| 1982.0|10042016|     M|  null|     KE| 9.282028353E10|00023|      B1|SAN FRANCISCO, CA...|            MONGOLIA|       Air|    ARIZONA| Business|\n|1048471.0|2016.0|   4.0| 299.0| 299.0|    SFR|20550.0|    1.0|     AZ|20557.0|  51.0|    1.0|  1.0|20160406|     ULN| null|      G|      O|   null|      M| 1965.0|10052016|     F|  null|     UA| 9.287077623E10|00889|      B1|SAN FRANCISCO, CA...|            MONGOLIA|       Air|    ARIZONA| Business|\n|1048473.0|2016.0|   4.0| 299.0| 299.0|    SFR|20550.0|    1.0|     AZ|20557.0|  45.0|    1.0|  1.0|20160406|     ULN| null|      G|      O|   null|      M| 1971.0|10052016|     M|  null|     UA| 9.287161223E10|00889|      B1|SAN FRANCISCO, CA...|            MONGOLIA|       Air|    ARIZONA| Business|\n|1048476.0|2016.0|   4.0| 299.0| 299.0|    SFR|20550.0|    1.0|     AZ|20557.0|  28.0|    1.0|  1.0|20160406|     ULN| null|      G|      O|   null|      M| 1988.0|10052016|     F|  null|     UA| 9.287088263E10|00889|      B1|SAN FRANCISCO, CA...|            MONGOLIA|       Air|    ARIZONA| Business|\n|2143748.0|2016.0|   4.0| 690.0| 690.0|    NYC|20555.0|    1.0|     AZ|20559.0|  62.0|    1.0|  1.0|20160411|     SNT| null|      G|      O|   null|      M| 1954.0|10102016|     M|  null|     BA| 9.330203683E10|00289|      B1|NEW YORK, NY     ...|               CHILE|       Air|    ARIZONA| Business|\n|1969028.0|2016.0|   4.0| 692.0| 692.0|    DAL|20554.0|    1.0|     AZ|20562.0|  71.0|    1.0|  1.0|20160410|     QTO| null|      G|      O|   null|      M| 1945.0|10092016|     M|  null|     AA| 9.317114693E10|01177|      B1|DALLAS, TX       ...|             ECUADOR|       Air|    ARIZONA| Business|\n|1643965.0|2016.0|   4.0| 332.0| 332.0|    ATL|20553.0|    1.0|     AZ|20557.0|  55.0|    1.0|  1.0|20160409|     CSB| null|      G|      O|   null|      M| 1961.0|10082016|     M|  null|     AF| 9.313283843E10|00688|      B1|ATLANTA, GA      ...|             MOROCCO|       Air|    ARIZONA| Business|\n|1644022.0|2016.0|   4.0| 332.0| 332.0|    PHI|20553.0|    1.0|     AZ|20558.0|  36.0|    1.0|  1.0|20160409|     CSB| null|      G|      O|   null|      M| 1980.0|10082016|     M|  null|     QR| 9.309780073E10|00727|      B1|PHILADELPHIA, PA ...|             MOROCCO|       Air|    ARIZONA| Business|\n|1226834.0|2016.0|   4.0| 332.0| 332.0|    NYC|20551.0|    1.0|     AZ|20560.0|  47.0|    1.0|  1.0|20160407|     CSB| null|      G|      O|   null|      M| 1969.0|10062016|     M|  null|     AT| 9.299139303E10|00200|      B1|NEW YORK, NY     ...|             MOROCCO|       Air|    ARIZONA| Business|\n|1175087.0|2016.0|   4.0| 130.0| 130.0|    SPM|20551.0|    1.0|     AZ|20564.0|  61.0|    1.0|  1.0|20160407|    null| null|      O|      O|   null|      M| 1955.0|07052016|  null|  null|     DL|5.5752453233E10|00161|      WB|ST PAUL, MN      ...|              SWEDEN|       Air|    ARIZONA| Business|\n|2323933.0|2016.0|   4.0| 130.0| 130.0|    SPM|20557.0|    1.0|     AZ|20560.0|  52.0|    1.0|  1.0|20160413|    null| null|      O|      O|   null|      M| 1964.0|07112016|  null|  null|     DL|5.6078585933E10|00170|      WB|ST PAUL, MN      ...|              SWEDEN|       Air|    ARIZONA| Business|\n+---------+------+------+------+------+-------+-------+-------+-------+-------+------+-------+-----+--------+--------+-----+-------+-------+-------+-------+-------+--------+------+------+-------+---------------+-----+--------+--------------------+--------------------+----------+-----------+---------+\nonly showing top 20 rows\n\n"
     ]
    }
   ],
   "source": [
    "df.show(20)"
   ]
  },
  {
   "cell_type": "code",
   "execution_count": 14,
   "metadata": {},
   "outputs": [
    {
     "output_type": "stream",
     "name": "stdout",
     "text": [
      "root\n |-- cicid: double (nullable = true)\n |-- i94yr: double (nullable = true)\n |-- i94mon: double (nullable = true)\n |-- i94cit: double (nullable = true)\n |-- i94res: double (nullable = true)\n |-- i94port: string (nullable = true)\n |-- arrdate: double (nullable = true)\n |-- i94mode: double (nullable = true)\n |-- i94addr: string (nullable = true)\n |-- depdate: double (nullable = true)\n |-- i94bir: double (nullable = true)\n |-- i94visa: double (nullable = true)\n |-- count: double (nullable = true)\n |-- dtadfile: string (nullable = true)\n |-- visapost: string (nullable = true)\n |-- occup: string (nullable = true)\n |-- entdepa: string (nullable = true)\n |-- entdepd: string (nullable = true)\n |-- entdepu: string (nullable = true)\n |-- matflag: string (nullable = true)\n |-- biryear: double (nullable = true)\n |-- dtaddto: string (nullable = true)\n |-- gender: string (nullable = true)\n |-- insnum: string (nullable = true)\n |-- airline: string (nullable = true)\n |-- admnum: double (nullable = true)\n |-- fltno: string (nullable = true)\n |-- visatype: string (nullable = true)\n |-- Port: string (nullable = true)\n |-- Country of Origin: string (nullable = true)\n |-- Travelmode: string (nullable = true)\n |-- Destination: string (nullable = true)\n |-- Visa: string (nullable = true)\n\n"
     ]
    }
   ],
   "source": [
    "df.printSchema()"
   ]
  },
  {
   "cell_type": "code",
   "execution_count": 15,
   "metadata": {},
   "outputs": [],
   "source": [
    "col_to_drop=['visapost','occup','entdepu','count','admnum','matflag','dtaddto','insnum','fltno','i94mode','i94addr','i94visa','i94cit']\n",
    "df=df.drop(*col_to_drop)"
   ]
  },
  {
   "cell_type": "code",
   "execution_count": 16,
   "metadata": {},
   "outputs": [],
   "source": [
    "# Strip Whitespaces\n",
    "df_clean=df.withColumn('Port',trim(col('Port')))"
   ]
  },
  {
   "source": [
    "## Cleaning Table "
   ],
   "cell_type": "markdown",
   "metadata": {}
  },
  {
   "cell_type": "code",
   "execution_count": 17,
   "metadata": {},
   "outputs": [
    {
     "output_type": "stream",
     "name": "stdout",
     "text": [
      "+---------+------+------+------+-------+-------+-------+------+--------+-------+-------+-------+------+-------+--------+-----------------+--------------------+----------+-----------+---------+\n|    cicid| i94yr|i94mon|i94res|i94port|arrdate|depdate|i94bir|dtadfile|entdepa|entdepd|biryear|gender|airline|visatype|             Port|   Country of Origin|Travelmode|Destination|     Visa|\n+---------+------+------+------+-------+-------+-------+------+--------+-------+-------+-------+------+-------+--------+-----------------+--------------------+----------+-----------+---------+\n|2093085.0|2016.0|   4.0| 582.0|    HOU|20555.0|20559.0|  46.0|20160411|      K|      O| 1970.0|     M|     UA|      B1|      HOUSTON, TX|  MEXICO Air Sea,...|       Air|       null| Business|\n|1373083.0|2016.0|   4.0| 135.0|    ATL|20552.0|20553.0|  22.0|20160408|      O|      R| 1994.0|  null|     VS|      B1|      ATLANTA, GA|      UNITED KINGDOM|       Air|       null| Business|\n|2696520.0|2016.0|   4.0| 135.0|    ATL|20559.0|20560.0|  50.0|20160415|      O|      R| 1966.0|  null|     VS|      B1|      ATLANTA, GA|      UNITED KINGDOM|       Air|       null| Business|\n|1594614.0|2016.0|   4.0| 135.0|    NYC|20553.0|20554.0|  21.0|20160409|      O|      R| 1995.0|  null|     VS|      B1|     NEW YORK, NY|      UNITED KINGDOM|       Air|       null| Business|\n|3337659.0|2016.0|   4.0| 135.0|    MIA|20562.0|20581.0|  30.0|20160418|      O|      R| 1986.0|  null|     AA|      B1|        MIAMI, FL|      UNITED KINGDOM|       Air|       null| Business|\n|2925771.0|2016.0|   4.0| 209.0|    DEN|20560.0|20566.0|  43.0|20160416|      O|      O| 1973.0|  null|     NH|      WB|       DENVER, CO|               JAPAN|       Air|       null| Business|\n|3690624.0|2016.0|   4.0| 209.0|    DAL|20564.0|20567.0|  60.0|20160420|      O|      O| 1956.0|  null|     YV|      WB|       DALLAS, TX|               JAPAN|       Air|       null| Business|\n|2645687.0|2016.0|   4.0| 582.0|    HOU|20558.0|20559.0|  53.0|20160414|      K|      O| 1963.0|     M|     AM|      B1|      HOUSTON, TX|  MEXICO Air Sea,...|       Air|       null| Business|\n| 855510.0|2016.0|   4.0| 112.0|    DAL|20549.0|20559.0|  29.0|20160405|      O|      O| 1987.0|  null|     MQ|      WB|       DALLAS, TX|                null|       Air|       null| Business|\n| 881270.0|2016.0|   4.0| 299.0|    SFR|20549.0|20553.0|  34.0|20160405|      G|      O| 1982.0|     M|     KE|      B1|SAN FRANCISCO, CA|            MONGOLIA|       Air|    ARIZONA| Business|\n|1048471.0|2016.0|   4.0| 299.0|    SFR|20550.0|20557.0|  51.0|20160406|      G|      O| 1965.0|     F|     UA|      B1|SAN FRANCISCO, CA|            MONGOLIA|       Air|    ARIZONA| Business|\n|1048473.0|2016.0|   4.0| 299.0|    SFR|20550.0|20557.0|  45.0|20160406|      G|      O| 1971.0|     M|     UA|      B1|SAN FRANCISCO, CA|            MONGOLIA|       Air|    ARIZONA| Business|\n|1048476.0|2016.0|   4.0| 299.0|    SFR|20550.0|20557.0|  28.0|20160406|      G|      O| 1988.0|     F|     UA|      B1|SAN FRANCISCO, CA|            MONGOLIA|       Air|    ARIZONA| Business|\n|1813533.0|2016.0|   4.0| 135.0|    SFR|20554.0|20565.0|  43.0|20160410|      G|      O| 1973.0|     M|     BA|      WB|SAN FRANCISCO, CA|      UNITED KINGDOM|       Air|    ARIZONA| Business|\n|1969028.0|2016.0|   4.0| 692.0|    DAL|20554.0|20562.0|  71.0|20160410|      G|      O| 1945.0|     M|     AA|      B1|       DALLAS, TX|             ECUADOR|       Air|    ARIZONA| Business|\n|2706286.0|2016.0|   4.0| 135.0|    SFR|20559.0|20565.0|  53.0|20160415|      G|      O| 1963.0|     M|     UA|      WB|SAN FRANCISCO, CA|      UNITED KINGDOM|       Air|    ARIZONA| Business|\n| 475949.0|2016.0|   4.0| 135.0|    VCV|20547.0|20553.0|  32.0|20160403|      O|      O| 1984.0|  null|     RV|      WB|VANCOUVER, CANADA|      UNITED KINGDOM|       Air|    ARIZONA| Business|\n|3339915.0|2016.0|   4.0| 135.0|    VCV|20562.0|20563.0|  53.0|20160418|      O|      O| 1963.0|  null|     AA|      WB|VANCOUVER, CANADA|      UNITED KINGDOM|       Air|    ARIZONA| Business|\n|1014318.0|2016.0|   4.0| 135.0|    LVG|20550.0|20551.0|  47.0|20160406|      O|      I| 1969.0|  null|     BA|      WB|    LAS VEGAS, NV|      UNITED KINGDOM|       Air|    ARIZONA| Business|\n|1014790.0|2016.0|   4.0| 135.0|    LVG|20550.0|20557.0|  46.0|20160406|      G|      O| 1970.0|     M|     CX|      WB|    LAS VEGAS, NV|      UNITED KINGDOM|       Air|    ARIZONA| Business|\n+---------+------+------+------+-------+-------+-------+------+--------+-------+-------+-------+------+-------+--------+-----------------+--------------------+----------+-----------+---------+\nonly showing top 20 rows\n\n"
     ]
    }
   ],
   "source": [
    "# Port\n",
    "df_clean.show()"
   ]
  },
  {
   "cell_type": "code",
   "execution_count": 18,
   "metadata": {},
   "outputs": [],
   "source": [
    "# Clean Invalid Ports \n",
    "df_port_clean=df_clean.filter(~col('Port').contains('No PORT Code'))\\\n",
    "    .filter(~col('Port').contains('Collapsed'))\\\n",
    "        .filter(col('Port').isNotNull())"
   ]
  },
  {
   "cell_type": "code",
   "execution_count": 19,
   "metadata": {},
   "outputs": [],
   "source": [
    "# Invalid Country Codes\n",
    "df_country_clean=df_port_clean.filter(~col('Country of Origin').contains('INVALID'))\\\n",
    "    .filter(~col('Country of Origin').contains('Collapsed'))\\\n",
    "        .filter(col('Country of Origin').isNotNull())"
   ]
  },
  {
   "cell_type": "code",
   "execution_count": 20,
   "metadata": {},
   "outputs": [],
   "source": [
    "# Remove Null-Values in Country Codes\n",
    "df_travelmode_clean=df_country_clean.filter(col('Travelmode').isNotNull())"
   ]
  },
  {
   "cell_type": "code",
   "execution_count": 21,
   "metadata": {},
   "outputs": [],
   "source": [
    "# Remove Null-Values in Travelmode\n",
    "df_destination_clean=df_travelmode_clean.filter(col('Destination').isNotNull())"
   ]
  },
  {
   "cell_type": "code",
   "execution_count": 22,
   "metadata": {},
   "outputs": [
    {
     "output_type": "stream",
     "name": "stdout",
     "text": [
      "+---------+-------+\n|     Visa|  count|\n+---------+-------+\n| Pleasure|1303035|\n|  Student|  25492|\n| Business| 293487|\n+---------+-------+\n\n"
     ]
    }
   ],
   "source": [
    "# Nothing to change in Travelmode\n",
    "df_destination_clean.groupBy('Visa').count().show()"
   ]
  },
  {
   "cell_type": "code",
   "execution_count": 23,
   "metadata": {},
   "outputs": [],
   "source": [
    "# Renaming Colum\n",
    "df_destination_clean=df_destination_clean.withColumnRenamed('Country of Origin','Origin_Country')"
   ]
  },
  {
   "cell_type": "code",
   "execution_count": 24,
   "metadata": {},
   "outputs": [],
   "source": [
    "# Get City names \n",
    "df_city=df_destination_clean.withColumn(\"City\", initcap(split(col(\"Port\"),',')[0])).drop('Port')"
   ]
  },
  {
   "cell_type": "code",
   "execution_count": 25,
   "metadata": {},
   "outputs": [
    {
     "output_type": "stream",
     "name": "stdout",
     "text": [
      "+---------+------+------+------+-------+-------+-------+------+--------+-------+-------+-------+------+-------+--------+----------------+----------+-----------+---------+--------------+\n|    cicid| i94yr|i94mon|i94res|i94port|arrdate|depdate|i94bir|dtadfile|entdepa|entdepd|biryear|gender|airline|visatype|  Origin_Country|Travelmode|Destination|     Visa|          City|\n+---------+------+------+------+-------+-------+-------+------+--------+-------+-------+-------+------+-------+--------+----------------+----------+-----------+---------+--------------+\n| 881270.0|2016.0|   4.0| 299.0|    SFR|20549.0|20553.0|  34.0|20160405|      G|      O| 1982.0|     M|     KE|      B1|        MONGOLIA|       Air|    ARIZONA| Business| San Francisco|\n|1048471.0|2016.0|   4.0| 299.0|    SFR|20550.0|20557.0|  51.0|20160406|      G|      O| 1965.0|     F|     UA|      B1|        MONGOLIA|       Air|    ARIZONA| Business| San Francisco|\n|1048473.0|2016.0|   4.0| 299.0|    SFR|20550.0|20557.0|  45.0|20160406|      G|      O| 1971.0|     M|     UA|      B1|        MONGOLIA|       Air|    ARIZONA| Business| San Francisco|\n|1048476.0|2016.0|   4.0| 299.0|    SFR|20550.0|20557.0|  28.0|20160406|      G|      O| 1988.0|     F|     UA|      B1|        MONGOLIA|       Air|    ARIZONA| Business| San Francisco|\n|1383694.0|2016.0|   4.0| 135.0|    SLC|20552.0|20562.0|  42.0|20160408|      O|      O| 1974.0|  null|     DL|      WB|  UNITED KINGDOM|       Air|    ARIZONA| Business|Salt Lake City|\n| 463118.0|2016.0|   4.0| 135.0|    NYC|20547.0|20551.0|  48.0|20160403|      G|      O| 1968.0|     M|     DL|      WB|  UNITED KINGDOM|       Air|    ARIZONA| Business|      New York|\n|1969028.0|2016.0|   4.0| 692.0|    DAL|20554.0|20562.0|  71.0|20160410|      G|      O| 1945.0|     M|     AA|      B1|         ECUADOR|       Air|    ARIZONA| Business|        Dallas|\n|2002218.0|2016.0|   4.0| 135.0|    NYC|20555.0|20558.0|  59.0|20160411|      G|      O| 1957.0|     M|     BA|      WB|  UNITED KINGDOM|       Air|    ARIZONA| Business|      New York|\n|2177134.0|2016.0|   4.0| 135.0|    NYC|20556.0|20566.0|  33.0|20160412|      G|      O| 1983.0|     F|     DL|      E2|  UNITED KINGDOM|       Air|    ARIZONA| Business|      New York|\n|1014317.0|2016.0|   4.0| 135.0|    NYC|20550.0|20551.0|  48.0|20160406|      O|      I| 1968.0|  null|     BA|      WB|  UNITED KINGDOM|       Air|    ARIZONA| Business|      New York|\n|1188770.0|2016.0|   4.0| 135.0|    NYC|20551.0|20554.0|  52.0|20160407|      G|      O| 1964.0|     M|     BA|      WB|  UNITED KINGDOM|       Air|    ARIZONA| Business|      New York|\n|1190646.0|2016.0|   4.0| 135.0|    NYC|20551.0|20573.0|  61.0|20160407|      G|      O| 1955.0|     F|     AA|      E2|  UNITED KINGDOM|       Air|    ARIZONA| Business|      New York|\n|1190647.0|2016.0|   4.0| 135.0|    NYC|20551.0|20577.0|  62.0|20160407|      G|      O| 1954.0|     M|     AA|      E2|  UNITED KINGDOM|       Air|    ARIZONA| Business|      New York|\n|1805984.0|2016.0|   4.0| 135.0|    NYC|20554.0|20558.0|  35.0|20160410|      G|      O| 1981.0|     M|     BA|      WB|  UNITED KINGDOM|       Air|    ARIZONA| Business|      New York|\n|3332264.0|2016.0|   4.0| 135.0|    NYC|20561.0|20572.0|  44.0|20160418|      G|      O| 1972.0|     M|     IB|      WB|  UNITED KINGDOM|       Air|    ARIZONA| Business|      New York|\n|3332886.0|2016.0|   4.0| 135.0|    NYC|20562.0|20571.0|  31.0|20160418|      G|      O| 1985.0|     M|     BA|      WB|  UNITED KINGDOM|       Air|    ARIZONA| Business|      New York|\n|3335453.0|2016.0|   4.0| 135.0|    NYC|20562.0|20567.0|  52.0|20160418|      G|      O| 1964.0|     F|     UA|      WB|  UNITED KINGDOM|       Air|    ARIZONA| Business|      New York|\n| 750913.0|2016.0|   4.0| 576.0|    LOS|20548.0|20553.0|  34.0|20160404|      G|      O| 1982.0|     M|     AV|      B1|     EL SALVADOR|       Air|    ARIZONA| Business|   Los Angeles|\n|2810710.0|2016.0|   4.0| 576.0|    LOS|20559.0|20564.0|  51.0|20160415|      G|      O| 1965.0|     F|     DL|      B1|     EL SALVADOR|       Air|    ARIZONA| Business|   Los Angeles|\n|3959028.0|2016.0|   4.0| 576.0|    HOU|20565.0|   null|  56.0|20160421|      G|   null| 1960.0|     M|     UA|      I1|     EL SALVADOR|       Air|    ARIZONA| Business|       Houston|\n+---------+------+------+------+-------+-------+-------+------+--------+-------+-------+-------+------+-------+--------+----------------+----------+-----------+---------+--------------+\nonly showing top 20 rows\n\n"
     ]
    }
   ],
   "source": [
    "# City as KeyField for Demographics and Weather \n",
    "df_city.show()"
   ]
  },
  {
   "cell_type": "code",
   "execution_count": 70,
   "metadata": {},
   "outputs": [],
   "source": [
    "# Write to csv for local inspection\n",
    "df_city.repartition(1).write.csv('processed/immigration_clean',mode='append',header=True)"
   ]
  }
 ]
}