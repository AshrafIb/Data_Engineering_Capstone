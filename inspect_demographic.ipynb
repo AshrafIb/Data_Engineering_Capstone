{
 "metadata": {
  "language_info": {
   "codemirror_mode": {
    "name": "ipython",
    "version": 3
   },
   "file_extension": ".py",
   "mimetype": "text/x-python",
   "name": "python",
   "nbconvert_exporter": "python",
   "pygments_lexer": "ipython3",
   "version": "3.7.6"
  },
  "orig_nbformat": 2,
  "kernelspec": {
   "name": "python376jvsc74a57bd0b533fa56a45963450a4b82145a4d23d60b6a43fab46f015745080e7e2d7daa42",
   "display_name": "Python 3.7.6 64-bit ('base': conda)"
  }
 },
 "nbformat": 4,
 "nbformat_minor": 2,
 "cells": [
  {
   "source": [
    "\n",
    "\n",
    "# Importing Modules"
   ],
   "cell_type": "markdown",
   "metadata": {}
  },
  {
   "cell_type": "code",
   "execution_count": 1,
   "metadata": {},
   "outputs": [],
   "source": [
    "import pyspark\n",
    "import findspark\n",
    "from pyspark.sql import SparkSession\n",
    "from pyspark.sql import SQLContext\n",
    "from pyspark.sql.functions import col , udf\n",
    "from pyspark.sql.types import StringType, IntegerType\n",
    "from pyspark.sql.functions import trim\n",
    "import pyspark.sql.functions as f\n",
    "\n",
    "\n",
    "import pandas as pd \n",
    "import numpy as np \n",
    "import re\n",
    "\n",
    "findspark.init('D:\\\\Spark\\\\')"
   ]
  },
  {
   "source": [
    "# Creating SparkSession"
   ],
   "cell_type": "markdown",
   "metadata": {}
  },
  {
   "cell_type": "code",
   "execution_count": 2,
   "metadata": {},
   "outputs": [],
   "source": [
    "spark=SparkSession.builder\\\n",
    "    .master('local') \\\n",
    "    .appName('Udacity') \\\n",
    "    .getOrCreate()"
   ]
  },
  {
   "cell_type": "code",
   "execution_count": 3,
   "metadata": {},
   "outputs": [
    {
     "output_type": "execute_result",
     "data": {
      "text/plain": [
       "<pyspark.sql.session.SparkSession at 0x26a1325e548>"
      ],
      "text/html": "\n            <div>\n                <p><b>SparkSession - in-memory</b></p>\n                \n        <div>\n            <p><b>SparkContext</b></p>\n\n            <p><a href=\"http://host.docker.internal:4040\">Spark UI</a></p>\n\n            <dl>\n              <dt>Version</dt>\n                <dd><code>v3.0.1</code></dd>\n              <dt>Master</dt>\n                <dd><code>local</code></dd>\n              <dt>AppName</dt>\n                <dd><code>Udacity</code></dd>\n            </dl>\n        </div>\n        \n            </div>\n        "
     },
     "metadata": {},
     "execution_count": 3
    }
   ],
   "source": [
    "spark"
   ]
  },
  {
   "source": [
    "# Loading and Inspsecting Dataframe"
   ],
   "cell_type": "markdown",
   "metadata": {}
  },
  {
   "cell_type": "code",
   "execution_count": 4,
   "metadata": {},
   "outputs": [],
   "source": [
    "df = spark.read.options(delimiter=';').csv('data/us-cities-demographics.csv',header=True)"
   ]
  },
  {
   "cell_type": "code",
   "execution_count": 5,
   "metadata": {},
   "outputs": [
    {
     "output_type": "stream",
     "name": "stdout",
     "text": [
      "root\n |-- City: string (nullable = true)\n |-- State: string (nullable = true)\n |-- Median Age: string (nullable = true)\n |-- Male Population: string (nullable = true)\n |-- Female Population: string (nullable = true)\n |-- Total Population: string (nullable = true)\n |-- Number of Veterans: string (nullable = true)\n |-- Foreign-born: string (nullable = true)\n |-- Average Household Size: string (nullable = true)\n |-- State Code: string (nullable = true)\n |-- Race: string (nullable = true)\n |-- Count: string (nullable = true)\n\n"
     ]
    }
   ],
   "source": [
    "df.printSchema()"
   ]
  },
  {
   "cell_type": "code",
   "execution_count": 6,
   "metadata": {},
   "outputs": [
    {
     "output_type": "stream",
     "name": "stdout",
     "text": [
      "+----------------+--------------+----------+---------------+-----------------+----------------+------------------+------------+----------------------+----------+--------------------+------+\n",
      "|            City|         State|Median Age|Male Population|Female Population|Total Population|Number of Veterans|Foreign-born|Average Household Size|State Code|                Race| Count|\n",
      "+----------------+--------------+----------+---------------+-----------------+----------------+------------------+------------+----------------------+----------+--------------------+------+\n",
      "|   Silver Spring|      Maryland|      33.8|          40601|            41862|           82463|              1562|       30908|                   2.6|        MD|  Hispanic or Latino| 25924|\n",
      "|          Quincy| Massachusetts|      41.0|          44129|            49500|           93629|              4147|       32935|                  2.39|        MA|               White| 58723|\n",
      "|          Hoover|       Alabama|      38.5|          38040|            46799|           84839|              4819|        8229|                  2.58|        AL|               Asian|  4759|\n",
      "|Rancho Cucamonga|    California|      34.5|          88127|            87105|          175232|              5821|       33878|                  3.18|        CA|Black or African-...| 24437|\n",
      "|          Newark|    New Jersey|      34.6|         138040|           143873|          281913|              5829|       86253|                  2.73|        NJ|               White| 76402|\n",
      "|          Peoria|      Illinois|      33.1|          56229|            62432|          118661|              6634|        7517|                   2.4|        IL|American Indian a...|  1343|\n",
      "|        Avondale|       Arizona|      29.1|          38712|            41971|           80683|              4815|        8355|                  3.18|        AZ|Black or African-...| 11592|\n",
      "|     West Covina|    California|      39.8|          51629|            56860|          108489|              3800|       37038|                  3.56|        CA|               Asian| 32716|\n",
      "|        O'Fallon|      Missouri|      36.0|          41762|            43270|           85032|              5783|        3269|                  2.77|        MO|  Hispanic or Latino|  2583|\n",
      "|      High Point|North Carolina|      35.5|          51751|            58077|          109828|              5204|       16315|                  2.65|        NC|               Asian| 11060|\n",
      "|          Folsom|    California|      40.9|          41051|            35317|           76368|              4187|       13234|                  2.62|        CA|  Hispanic or Latino|  5822|\n",
      "|          Folsom|    California|      40.9|          41051|            35317|           76368|              4187|       13234|                  2.62|        CA|American Indian a...|   998|\n",
      "|    Philadelphia|  Pennsylvania|      34.1|         741270|           826172|         1567442|             61995|      205339|                  2.61|        PA|               Asian|122721|\n",
      "|         Wichita|        Kansas|      34.6|         192354|           197601|          389955|             23978|       40270|                  2.56|        KS|  Hispanic or Latino| 65162|\n",
      "|         Wichita|        Kansas|      34.6|         192354|           197601|          389955|             23978|       40270|                  2.56|        KS|American Indian a...|  8791|\n",
      "|      Fort Myers|       Florida|      37.3|          36850|            37165|           74015|              4312|       15365|                  2.45|        FL|               White| 50169|\n",
      "|      Pittsburgh|  Pennsylvania|      32.9|         149690|           154695|          304385|             17728|       28187|                  2.13|        PA|               White|208863|\n",
      "|          Laredo|         Texas|      28.8|         124305|           131484|          255789|              4921|       68427|                  3.66|        TX|American Indian a...|  1253|\n",
      "|        Berkeley|    California|      32.5|          60142|            60829|          120971|              3736|       25000|                  2.35|        CA|               Asian| 27089|\n",
      "|     Santa Clara|    California|      35.2|          63278|            62938|          126216|              4426|       52281|                  2.75|        CA|               White| 55847|\n",
      "+----------------+--------------+----------+---------------+-----------------+----------------+------------------+------------+----------------------+----------+--------------------+------+\n",
      "only showing top 20 rows\n",
      "\n"
     ]
    }
   ],
   "source": [
    "df.show()"
   ]
  },
  {
   "cell_type": "code",
   "execution_count": 7,
   "metadata": {},
   "outputs": [
    {
     "output_type": "stream",
     "name": "stdout",
     "text": [
      "+--------+--------+----------+---------------+-----------------+----------------+------------------+------------+----------------------+----------+--------------------+-------+\n|    City|   State|Median Age|Male Population|Female Population|Total Population|Number of Veterans|Foreign-born|Average Household Size|State Code|                Race|  Count|\n+--------+--------+----------+---------------+-----------------+----------------+------------------+------------+----------------------+----------+--------------------+-------+\n|New York|New York|      36.0|        4081698|          4468707|         8550405|            156961|     3212500|                  2.68|        NY|               White|3835726|\n|New York|New York|      36.0|        4081698|          4468707|         8550405|            156961|     3212500|                  2.68|        NY|               Asian|1304564|\n|New York|New York|      36.0|        4081698|          4468707|         8550405|            156961|     3212500|                  2.68|        NY|American Indian a...|  90923|\n|New York|New York|      36.0|        4081698|          4468707|         8550405|            156961|     3212500|                  2.68|        NY|  Hispanic or Latino|2485125|\n|New York|New York|      36.0|        4081698|          4468707|         8550405|            156961|     3212500|                  2.68|        NY|Black or African-...|2192248|\n+--------+--------+----------+---------------+-----------------+----------------+------------------+------------+----------------------+----------+--------------------+-------+\n\n"
     ]
    }
   ],
   "source": [
    "# Duplicates per Race\n",
    "df.where(col('City')=='New York').show()"
   ]
  },
  {
   "source": [
    "# Cleaning Data \n",
    "\n",
    "+ ~~Pivot of Race; thus remove duplicates~~ \n",
    "+ ~~Repalce nulls with zero~~ \n",
    "+ ~~Join both frame~~\n",
    "+ ~~Drop Columns~~"
   ],
   "cell_type": "markdown",
   "metadata": {}
  },
  {
   "cell_type": "code",
   "execution_count": 8,
   "metadata": {},
   "outputs": [],
   "source": [
    "# Groupby and Pivot\n",
    "df_grp=df.groupBy('City','State').pivot('Race').agg(f.sum('Count').cast(IntegerType()))\n",
    "# Create Key Column\n",
    "df_grp=df_grp.withColumn('StateCity',f.concat(col('State'),f.lit('_'),col('City')))\n",
    "# Drop State and City \n",
    "col_to_drop=['City','State']\n",
    "df_grp=df_grp.drop(*col_to_drop)\n",
    "# Fill Nulls with zero\n",
    "df_grp=df_grp.fillna(0)"
   ]
  },
  {
   "cell_type": "code",
   "execution_count": 9,
   "metadata": {},
   "outputs": [],
   "source": [
    "# Create Join key origin df\n",
    "df=df.withColumn('StateCity',f.concat(col('State'),f.lit('_'),col('City')))\n",
    "# Join per key \n",
    "df=df.join(df_grp,df.StateCity==df_grp.StateCity,how='left').drop(df_grp.StateCity)"
   ]
  },
  {
   "cell_type": "code",
   "execution_count": 10,
   "metadata": {},
   "outputs": [],
   "source": [
    "# Dropping Columns\n",
    "col_to_drop=['StateCity','Race','Count']\n",
    "df=df.drop(*col_to_drop)"
   ]
  },
  {
   "cell_type": "code",
   "execution_count": 11,
   "metadata": {},
   "outputs": [
    {
     "output_type": "stream",
     "name": "stdout",
     "text": [
      "+----------------+--------------+----------+---------------+-----------------+----------------+------------------+------------+----------------------+----------+---------------------------------+------+-------------------------+------------------+------+\n|            City|         State|Median Age|Male Population|Female Population|Total Population|Number of Veterans|Foreign-born|Average Household Size|State Code|American Indian and Alaska Native| Asian|Black or African-American|Hispanic or Latino| White|\n+----------------+--------------+----------+---------------+-----------------+----------------+------------------+------------+----------------------+----------+---------------------------------+------+-------------------------+------------------+------+\n|   Silver Spring|      Maryland|      33.8|          40601|            41862|           82463|              1562|       30908|                   2.6|        MD|                             1084|  8841|                    21330|             25924| 37756|\n|          Quincy| Massachusetts|      41.0|          44129|            49500|           93629|              4147|       32935|                  2.39|        MA|                              351| 30473|                     3917|              2566| 58723|\n|          Hoover|       Alabama|      38.5|          38040|            46799|           84839|              4819|        8229|                  2.58|        AL|                                0|  4759|                    18191|              3430| 61869|\n|Rancho Cucamonga|    California|      34.5|          88127|            87105|          175232|              5821|       33878|                  3.18|        CA|                             2789| 24519|                    24437|             65823|111832|\n|          Newark|    New Jersey|      34.6|         138040|           143873|          281913|              5829|       86253|                  2.73|        NJ|                             2268|  7349|                   144961|            100432| 76402|\n|          Peoria|      Illinois|      33.1|          56229|            62432|          118661|              6634|        7517|                   2.4|        IL|                             1343|  6989|                    36333|              6874| 77074|\n|        Avondale|       Arizona|      29.1|          38712|            41971|           80683|              4815|        8355|                  3.18|        AZ|                              613|  2828|                    11592|             34716| 62176|\n|     West Covina|    California|      39.8|          51629|            56860|          108489|              3800|       37038|                  3.56|        CA|                              518| 32716|                     3693|             58907| 48046|\n|        O'Fallon|      Missouri|      36.0|          41762|            43270|           85032|              5783|        3269|                  2.77|        MO|                              685|  3447|                     5136|              2583| 77049|\n|      High Point|North Carolina|      35.5|          51751|            58077|          109828|              5204|       16315|                  2.65|        NC|                             1181| 11060|                    39369|             11446| 58004|\n|          Folsom|    California|      40.9|          41051|            35317|           76368|              4187|       13234|                  2.62|        CA|                              998| 15569|                     3985|              5822| 57435|\n|          Folsom|    California|      40.9|          41051|            35317|           76368|              4187|       13234|                  2.62|        CA|                              998| 15569|                     3985|              5822| 57435|\n|    Philadelphia|  Pennsylvania|      34.1|         741270|           826172|         1567442|             61995|      205339|                  2.61|        PA|                            17500|122721|                   691186|            219038|688130|\n|         Wichita|        Kansas|      34.6|         192354|           197601|          389955|             23978|       40270|                  2.56|        KS|                             8791| 25210|                    52592|             65162|305910|\n|         Wichita|        Kansas|      34.6|         192354|           197601|          389955|             23978|       40270|                  2.56|        KS|                             8791| 25210|                    52592|             65162|305910|\n|      Fort Myers|       Florida|      37.3|          36850|            37165|           74015|              4312|       15365|                  2.45|        FL|                                0|  3519|                    17298|             17866| 50169|\n|      Pittsburgh|  Pennsylvania|      32.9|         149690|           154695|          304385|             17728|       28187|                  2.13|        PA|                             2689| 21227|                    82248|              9266|208863|\n|          Laredo|         Texas|      28.8|         124305|           131484|          255789|              4921|       68427|                  3.66|        TX|                             1253|  1963|                      832|            243190|246442|\n|        Berkeley|    California|      32.5|          60142|            60829|          120971|              3736|       25000|                  2.35|        CA|                             1868| 27089|                    11255|             15429| 82949|\n|     Santa Clara|    California|      35.2|          63278|            62938|          126216|              4426|       52281|                  2.75|        CA|                             1354| 58360|                     4580|             22402| 55847|\n+----------------+--------------+----------+---------------+-----------------+----------------+------------------+------------+----------------------+----------+---------------------------------+------+-------------------------+------------------+------+\nonly showing top 20 rows\n\n"
     ]
    }
   ],
   "source": [
    "df.show()"
   ]
  },
  {
   "cell_type": "code",
   "execution_count": 15,
   "metadata": {},
   "outputs": [],
   "source": [
    "# Write to csv \n",
    "df.write.csv('processed/demographics.csv',mode='overwrite',header=True)"
   ]
  }
 ]
}